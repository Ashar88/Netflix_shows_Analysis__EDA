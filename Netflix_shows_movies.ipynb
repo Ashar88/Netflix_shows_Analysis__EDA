{
 "cells": [
  {
   "cell_type": "code",
   "execution_count": 1,
   "id": "cbf347df-f45e-42c6-ac24-c45653bde084",
   "metadata": {},
   "outputs": [],
   "source": [
    "import numpy as np\n",
    "import pandas as pd"
   ]
  },
  {
   "cell_type": "code",
   "execution_count": 5,
   "id": "cd7a3fc0-44be-4ff8-b64f-95fa7cdee22a",
   "metadata": {},
   "outputs": [],
   "source": [
    "df = pd.read_csv(\"netflix_dataset.csv\")"
   ]
  },
  {
   "cell_type": "code",
   "execution_count": 12,
   "id": "e1471a1a-4786-473d-9f21-b71ec7abe464",
   "metadata": {},
   "outputs": [
    {
     "data": {
      "text/html": [
       "<div>\n",
       "<style scoped>\n",
       "    .dataframe tbody tr th:only-of-type {\n",
       "        vertical-align: middle;\n",
       "    }\n",
       "\n",
       "    .dataframe tbody tr th {\n",
       "        vertical-align: top;\n",
       "    }\n",
       "\n",
       "    .dataframe thead th {\n",
       "        text-align: right;\n",
       "    }\n",
       "</style>\n",
       "<table border=\"1\" class=\"dataframe\">\n",
       "  <thead>\n",
       "    <tr style=\"text-align: right;\">\n",
       "      <th></th>\n",
       "      <th>show_id</th>\n",
       "      <th>type</th>\n",
       "      <th>title</th>\n",
       "      <th>director</th>\n",
       "      <th>cast</th>\n",
       "      <th>country</th>\n",
       "      <th>date_added</th>\n",
       "      <th>release_year</th>\n",
       "      <th>rating</th>\n",
       "      <th>duration</th>\n",
       "      <th>listed_in</th>\n",
       "      <th>description</th>\n",
       "    </tr>\n",
       "  </thead>\n",
       "  <tbody>\n",
       "    <tr>\n",
       "      <th>0</th>\n",
       "      <td>s1</td>\n",
       "      <td>Movie</td>\n",
       "      <td>Dick Johnson Is Dead</td>\n",
       "      <td>Kirsten Johnson</td>\n",
       "      <td>NaN</td>\n",
       "      <td>United States</td>\n",
       "      <td>September 25, 2021</td>\n",
       "      <td>2020</td>\n",
       "      <td>PG-13</td>\n",
       "      <td>90 min</td>\n",
       "      <td>Documentaries</td>\n",
       "      <td>As her father nears the end of his life, filmm...</td>\n",
       "    </tr>\n",
       "    <tr>\n",
       "      <th>1</th>\n",
       "      <td>s2</td>\n",
       "      <td>TV Show</td>\n",
       "      <td>Blood &amp; Water</td>\n",
       "      <td>NaN</td>\n",
       "      <td>Ama Qamata, Khosi Ngema, Gail Mabalane, Thaban...</td>\n",
       "      <td>South Africa</td>\n",
       "      <td>September 24, 2021</td>\n",
       "      <td>2021</td>\n",
       "      <td>TV-MA</td>\n",
       "      <td>2 Seasons</td>\n",
       "      <td>International TV Shows, TV Dramas, TV Mysteries</td>\n",
       "      <td>After crossing paths at a party, a Cape Town t...</td>\n",
       "    </tr>\n",
       "    <tr>\n",
       "      <th>2</th>\n",
       "      <td>s3</td>\n",
       "      <td>TV Show</td>\n",
       "      <td>Ganglands</td>\n",
       "      <td>Julien Leclercq</td>\n",
       "      <td>Sami Bouajila, Tracy Gotoas, Samuel Jouy, Nabi...</td>\n",
       "      <td>NaN</td>\n",
       "      <td>September 24, 2021</td>\n",
       "      <td>2021</td>\n",
       "      <td>TV-MA</td>\n",
       "      <td>1 Season</td>\n",
       "      <td>Crime TV Shows, International TV Shows, TV Act...</td>\n",
       "      <td>To protect his family from a powerful drug lor...</td>\n",
       "    </tr>\n",
       "    <tr>\n",
       "      <th>3</th>\n",
       "      <td>s4</td>\n",
       "      <td>TV Show</td>\n",
       "      <td>Jailbirds New Orleans</td>\n",
       "      <td>NaN</td>\n",
       "      <td>NaN</td>\n",
       "      <td>NaN</td>\n",
       "      <td>September 24, 2021</td>\n",
       "      <td>2021</td>\n",
       "      <td>TV-MA</td>\n",
       "      <td>1 Season</td>\n",
       "      <td>Docuseries, Reality TV</td>\n",
       "      <td>Feuds, flirtations and toilet talk go down amo...</td>\n",
       "    </tr>\n",
       "    <tr>\n",
       "      <th>4</th>\n",
       "      <td>s5</td>\n",
       "      <td>TV Show</td>\n",
       "      <td>Kota Factory</td>\n",
       "      <td>NaN</td>\n",
       "      <td>Mayur More, Jitendra Kumar, Ranjan Raj, Alam K...</td>\n",
       "      <td>India</td>\n",
       "      <td>September 24, 2021</td>\n",
       "      <td>2021</td>\n",
       "      <td>TV-MA</td>\n",
       "      <td>2 Seasons</td>\n",
       "      <td>International TV Shows, Romantic TV Shows, TV ...</td>\n",
       "      <td>In a city of coaching centers known to train I...</td>\n",
       "    </tr>\n",
       "  </tbody>\n",
       "</table>\n",
       "</div>"
      ],
      "text/plain": [
       "  show_id     type                  title         director  \\\n",
       "0      s1    Movie   Dick Johnson Is Dead  Kirsten Johnson   \n",
       "1      s2  TV Show          Blood & Water              NaN   \n",
       "2      s3  TV Show              Ganglands  Julien Leclercq   \n",
       "3      s4  TV Show  Jailbirds New Orleans              NaN   \n",
       "4      s5  TV Show           Kota Factory              NaN   \n",
       "\n",
       "                                                cast        country  \\\n",
       "0                                                NaN  United States   \n",
       "1  Ama Qamata, Khosi Ngema, Gail Mabalane, Thaban...   South Africa   \n",
       "2  Sami Bouajila, Tracy Gotoas, Samuel Jouy, Nabi...            NaN   \n",
       "3                                                NaN            NaN   \n",
       "4  Mayur More, Jitendra Kumar, Ranjan Raj, Alam K...          India   \n",
       "\n",
       "           date_added  release_year rating   duration  \\\n",
       "0  September 25, 2021          2020  PG-13     90 min   \n",
       "1  September 24, 2021          2021  TV-MA  2 Seasons   \n",
       "2  September 24, 2021          2021  TV-MA   1 Season   \n",
       "3  September 24, 2021          2021  TV-MA   1 Season   \n",
       "4  September 24, 2021          2021  TV-MA  2 Seasons   \n",
       "\n",
       "                                           listed_in  \\\n",
       "0                                      Documentaries   \n",
       "1    International TV Shows, TV Dramas, TV Mysteries   \n",
       "2  Crime TV Shows, International TV Shows, TV Act...   \n",
       "3                             Docuseries, Reality TV   \n",
       "4  International TV Shows, Romantic TV Shows, TV ...   \n",
       "\n",
       "                                         description  \n",
       "0  As her father nears the end of his life, filmm...  \n",
       "1  After crossing paths at a party, a Cape Town t...  \n",
       "2  To protect his family from a powerful drug lor...  \n",
       "3  Feuds, flirtations and toilet talk go down amo...  \n",
       "4  In a city of coaching centers known to train I...  "
      ]
     },
     "execution_count": 12,
     "metadata": {},
     "output_type": "execute_result"
    }
   ],
   "source": [
    "df.head()"
   ]
  },
  {
   "cell_type": "code",
   "execution_count": 14,
   "id": "6d3b22ea-fafa-4aa0-bd5b-76aed6dee6c9",
   "metadata": {},
   "outputs": [
    {
     "data": {
      "text/plain": [
       "(8807, 12)"
      ]
     },
     "execution_count": 14,
     "metadata": {},
     "output_type": "execute_result"
    }
   ],
   "source": [
    "df.shape"
   ]
  },
  {
   "cell_type": "markdown",
   "id": "52869207-9924-43d5-a966-bda814a46f8f",
   "metadata": {},
   "source": [
    "##### So here we have `8807` movies and shows with `12` attributes of them"
   ]
  },
  {
   "cell_type": "markdown",
   "id": "6cb65ce2-8356-4a34-bed7-bf2b35c4c6f9",
   "metadata": {},
   "source": [
    " "
   ]
  },
  {
   "cell_type": "markdown",
   "id": "3fe7b46b-0cfd-482d-aece-f1be6c0e5002",
   "metadata": {},
   "source": [
    "#### With printing head(), We can easily see the Nan values, so lets clean them up."
   ]
  },
  {
   "cell_type": "markdown",
   "id": "c17b7936-c6c8-484f-9e6b-f7298a538cd4",
   "metadata": {},
   "source": [
    "### Check for missing values"
   ]
  },
  {
   "cell_type": "code",
   "execution_count": 15,
   "id": "db4b2dbe-096f-438f-864f-5bb9b8d4d341",
   "metadata": {},
   "outputs": [
    {
     "data": {
      "text/plain": [
       "show_id            0\n",
       "type               0\n",
       "title              0\n",
       "director        2634\n",
       "cast             825\n",
       "country          831\n",
       "date_added        10\n",
       "release_year       0\n",
       "rating             4\n",
       "duration           3\n",
       "listed_in          0\n",
       "description        0\n",
       "dtype: int64"
      ]
     },
     "execution_count": 15,
     "metadata": {},
     "output_type": "execute_result"
    }
   ],
   "source": [
    "df.isnull().sum()"
   ]
  },
  {
   "cell_type": "markdown",
   "id": "a7ad1571-276e-484d-b19f-b8fcc6efe079",
   "metadata": {},
   "source": [
    "##### so we can see plenty of null/missing values in director, cast, country columns "
   ]
  },
  {
   "cell_type": "code",
   "execution_count": 18,
   "id": "cf2a0be3-d532-42db-88f6-9f6fa0675ef1",
   "metadata": {},
   "outputs": [
    {
     "name": "stdout",
     "output_type": "stream",
     "text": [
      "<class 'pandas.core.frame.DataFrame'>\n",
      "RangeIndex: 8807 entries, 0 to 8806\n",
      "Data columns (total 12 columns):\n",
      " #   Column        Non-Null Count  Dtype \n",
      "---  ------        --------------  ----- \n",
      " 0   show_id       8807 non-null   object\n",
      " 1   type          8807 non-null   object\n",
      " 2   title         8807 non-null   object\n",
      " 3   director      6173 non-null   object\n",
      " 4   cast          7982 non-null   object\n",
      " 5   country       7976 non-null   object\n",
      " 6   date_added    8797 non-null   object\n",
      " 7   release_year  8807 non-null   int64 \n",
      " 8   rating        8803 non-null   object\n",
      " 9   duration      8804 non-null   object\n",
      " 10  listed_in     8807 non-null   object\n",
      " 11  description   8807 non-null   object\n",
      "dtypes: int64(1), object(11)\n",
      "memory usage: 825.8+ KB\n"
     ]
    }
   ],
   "source": [
    "df.info()"
   ]
  },
  {
   "cell_type": "markdown",
   "id": "dd2dfec7-2d83-4745-80b2-484044b3f3cd",
   "metadata": {},
   "source": [
    "##### date_added and duration columns are usually in DataTime object and integer datatype respectively instead of object. Now we will have to carefully analyse them and check for anomalies"
   ]
  },
  {
   "cell_type": "code",
   "execution_count": 4,
   "id": "f94bd82c-2a7f-4a8e-886e-922ee67cbd2b",
   "metadata": {},
   "outputs": [
    {
     "data": {
      "text/plain": [
       "show_id         8807\n",
       "type               2\n",
       "title           8807\n",
       "director        4528\n",
       "cast            7692\n",
       "country          748\n",
       "date_added      1767\n",
       "release_year      74\n",
       "rating            17\n",
       "duration         220\n",
       "listed_in        514\n",
       "description     8775\n",
       "dtype: int64"
      ]
     },
     "execution_count": 4,
     "metadata": {},
     "output_type": "execute_result"
    }
   ],
   "source": [
    "df.nunique()  #analysing the number of unique values in every columns."
   ]
  },
  {
   "cell_type": "code",
   "execution_count": 30,
   "id": "f16c1792-10a2-4ce1-8284-032dcd892fff",
   "metadata": {},
   "outputs": [
    {
     "name": "stdout",
     "output_type": "stream",
     "text": [
      "   date_added :\n",
      "['September 25, 2021' 'September 24, 2021' 'September 23, 2021' ...\n",
      " 'December 6, 2018' 'March 9, 2016' 'January 11, 2020']\n",
      "   duration :\n",
      "['90 min' '2 Seasons' '1 Season' '91 min' '125 min' '9 Seasons' '104 min'\n",
      " '127 min' '4 Seasons' '67 min' '94 min' '5 Seasons' '161 min' '61 min'\n",
      " '166 min' '147 min' '103 min' '97 min' '106 min' '111 min' '3 Seasons'\n",
      " '110 min' '105 min' '96 min' '124 min' '116 min' '98 min' '23 min'\n",
      " '115 min' '122 min' '99 min' '88 min' '100 min' '6 Seasons' '102 min'\n",
      " '93 min' '95 min' '85 min' '83 min' '113 min' '13 min' '182 min' '48 min'\n",
      " '145 min' '87 min' '92 min' '80 min' '117 min' '128 min' '119 min'\n",
      " '143 min' '114 min' '118 min' '108 min' '63 min' '121 min' '142 min'\n",
      " '154 min' '120 min' '82 min' '109 min' '101 min' '86 min' '229 min'\n",
      " '76 min' '89 min' '156 min' '112 min' '107 min' '129 min' '135 min'\n",
      " '136 min' '165 min' '150 min' '133 min' '70 min' '84 min' '140 min'\n",
      " '78 min' '7 Seasons' '64 min' '59 min' '139 min' '69 min' '148 min'\n",
      " '189 min' '141 min' '130 min' '138 min' '81 min' '132 min' '10 Seasons'\n",
      " '123 min' '65 min' '68 min' '66 min' '62 min' '74 min' '131 min' '39 min'\n",
      " '46 min' '38 min' '8 Seasons' '17 Seasons' '126 min' '155 min' '159 min'\n",
      " '137 min' '12 min' '273 min' '36 min' '34 min' '77 min' '60 min' '49 min'\n",
      " '58 min' '72 min' '204 min' '212 min' '25 min' '73 min' '29 min' '47 min'\n",
      " '32 min' '35 min' '71 min' '149 min' '33 min' '15 min' '54 min' '224 min'\n",
      " '162 min' '37 min' '75 min' '79 min' '55 min' '158 min' '164 min'\n",
      " '173 min' '181 min' '185 min' '21 min' '24 min' '51 min' '151 min'\n",
      " '42 min' '22 min' '134 min' '177 min' '13 Seasons' '52 min' '14 min'\n",
      " '53 min' '8 min' '57 min' '28 min' '50 min' '9 min' '26 min' '45 min'\n",
      " '171 min' '27 min' '44 min' '146 min' '20 min' '157 min' '17 min'\n",
      " '203 min' '41 min' '30 min' '194 min' '15 Seasons' '233 min' '237 min'\n",
      " '230 min' '195 min' '253 min' '152 min' '190 min' '160 min' '208 min'\n",
      " '180 min' '144 min' '5 min' '174 min' '170 min' '192 min' '209 min'\n",
      " '187 min' '172 min' '16 min' '186 min' '11 min' '193 min' '176 min'\n",
      " '56 min' '169 min' '40 min' '10 min' '3 min' '168 min' '312 min'\n",
      " '153 min' '214 min' '31 min' '163 min' '19 min' '12 Seasons' nan\n",
      " '179 min' '11 Seasons' '43 min' '200 min' '196 min' '167 min' '178 min'\n",
      " '228 min' '18 min' '205 min' '201 min' '191 min']\n"
     ]
    }
   ],
   "source": [
    "check_col = [\"date_added\", \"duration\"]\n",
    "\n",
    "for col in check_col:\n",
    "    uniques = df[col].unique()\n",
    "    print(\"  \",col,\":\")\n",
    "    print(uniques)"
   ]
  },
  {
   "cell_type": "markdown",
   "id": "5b5a2e43-2154-46fd-bf76-3008c28ef30b",
   "metadata": {},
   "source": [
    "##### Duration column is consistent, so we'll leave as it is, date_added is also consistent. date_added will be useful in further analysis"
   ]
  },
  {
   "cell_type": "code",
   "execution_count": null,
   "id": "ded8a37f-4d72-4a09-a405-f0341fba3ebb",
   "metadata": {},
   "outputs": [],
   "source": []
  }
 ],
 "metadata": {
  "kernelspec": {
   "display_name": "Python 3 (ipykernel)",
   "language": "python",
   "name": "python3"
  },
  "language_info": {
   "codemirror_mode": {
    "name": "ipython",
    "version": 3
   },
   "file_extension": ".py",
   "mimetype": "text/x-python",
   "name": "python",
   "nbconvert_exporter": "python",
   "pygments_lexer": "ipython3",
   "version": "3.9.12"
  }
 },
 "nbformat": 4,
 "nbformat_minor": 5
}
